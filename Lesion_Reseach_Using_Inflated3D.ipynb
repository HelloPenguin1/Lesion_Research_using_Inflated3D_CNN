{
  "nbformat": 4,
  "nbformat_minor": 0,
  "metadata": {
    "colab": {
      "provenance": [],
      "gpuType": "T4"
    },
    "kernelspec": {
      "name": "python3",
      "display_name": "Python 3"
    },
    "language_info": {
      "name": "python"
    }
  },
  "cells": [
    {
      "cell_type": "code",
      "source": [
        "import os\n",
        "import cv2\n",
        "import numpy as np\n",
        "import pandas as pd\n",
        "import matplotlib.pyplot as plt\n",
        "from sklearn.preprocessing import LabelEncoder\n",
        "from sklearn.model_selection import train_test_split\n",
        "from collections import Counter\n",
        "import albumentations as A"
      ],
      "metadata": {
        "id": "gDFlIIOOSl8l"
      },
      "execution_count": 19,
      "outputs": []
    },
    {
      "cell_type": "code",
      "execution_count": 1,
      "metadata": {
        "colab": {
          "base_uri": "https://localhost:8080/"
        },
        "id": "Zu-fZjMQqPx7",
        "outputId": "59c03fc4-24fb-42b7-d017-98873db61e85"
      },
      "outputs": [
        {
          "output_type": "stream",
          "name": "stdout",
          "text": [
            "Mounted at /content/drive\n"
          ]
        }
      ],
      "source": [
        "from google.colab import drive\n",
        "drive.mount('/content/drive')"
      ]
    },
    {
      "cell_type": "code",
      "source": [
        "import os\n",
        "\n",
        "data_dir = \"/content/drive/My Drive/TCIA_Data/images/Spine-Mets-CT-SEG\"\n",
        "\n",
        "patient_folders = [f for f in os.listdir(data_dir) if os.path.isdir(os.path.join(data_dir, f))]\n",
        "patient_folders.sort()\n",
        "print(patient_folders)\n"
      ],
      "metadata": {
        "id": "HUgNQ5GW0qxG",
        "colab": {
          "base_uri": "https://localhost:8080/"
        },
        "outputId": "a153ed03-2fd0-4618-a79f-b2a8d1ae6fe6"
      },
      "execution_count": 2,
      "outputs": [
        {
          "output_type": "stream",
          "name": "stdout",
          "text": [
            "['10250', '10352', '10355', '10456', '10458', '10543', '11084', '11471', '12196', '12459', '12855', '13055', '13089', '13627', '13641', '13643', '13653', '13662', '13681', '13683', '13697', '13800', '13819', '13838', '13843', '13977', '13989', '14078', '14089', '14138', '14151', '14293', '14313', '14316', '14427', '14434', '14439', '14445', '14487', '14636', '14638', '14643', '14650', '14655', '14659', '14797', '14826', '14874', '14912', '15001', '15027', '15040', '15041', '15067', '15094']\n"
          ]
        }
      ]
    },
    {
      "cell_type": "code",
      "source": [
        "#Extracts patient folders from directory and sorting\n",
        "patient_folders = [f for f in os.listdir(data_dir) if os.path.isdir(os.path.join(data_dir, f))]\n",
        "patient_folders.sort()"
      ],
      "metadata": {
        "id": "RBNf9uNyMNXP"
      },
      "execution_count": 8,
      "outputs": []
    },
    {
      "cell_type": "code",
      "source": [
        "print(f\"Total patients: {len(patient_folders)}\")"
      ],
      "metadata": {
        "colab": {
          "base_uri": "https://localhost:8080/"
        },
        "id": "RciWr2FEMf09",
        "outputId": "9dee968f-c330-48c7-dcd7-3f8ab5d81166"
      },
      "execution_count": 4,
      "outputs": [
        {
          "output_type": "stream",
          "name": "stdout",
          "text": [
            "Total patients: 55\n"
          ]
        }
      ]
    },
    {
      "cell_type": "code",
      "source": [
        "# Data Statistics\n",
        "image_counts = {}\n",
        "for patient in patient_folders:\n",
        "    patient_dir = os.path.join(data_dir, patient)\n",
        "    images = [f for f in os.listdir(patient_dir) if f.endswith(\".jpg\")]\n",
        "    image_counts[patient] = len(images)"
      ],
      "metadata": {
        "id": "oauBIhQiMnpE"
      },
      "execution_count": 9,
      "outputs": []
    },
    {
      "cell_type": "code",
      "source": [
        "#Dictionary of patient folder mapped to its image counts\n",
        "print(image_counts)"
      ],
      "metadata": {
        "colab": {
          "base_uri": "https://localhost:8080/"
        },
        "id": "9Gdjcp2IWsHj",
        "outputId": "7c22d44c-3110-4837-a6b6-e90a7173a288"
      },
      "execution_count": 22,
      "outputs": [
        {
          "output_type": "stream",
          "name": "stdout",
          "text": [
            "{'10250': 797, '10352': 1134, '10355': 451, '10456': 797, '10458': 390, '10543': 797, '11084': 969, '11471': 797, '12196': 399, '12459': 797, '12855': 651, '13055': 527, '13089': 508, '13627': 430, '13641': 797, '13643': 532, '13653': 2124, '13662': 522, '13681': 399, '13683': 797, '13697': 817, '13800': 221, '13819': 797, '13838': 797, '13843': 242, '13977': 412, '13989': 527, '14078': 350, '14089': 332, '14138': 574, '14151': 797, '14293': 537, '14313': 797, '14316': 399, '14427': 797, '14434': 590, '14439': 450, '14445': 797, '14487': 477, '14636': 435, '14638': 544, '14643': 522, '14650': 797, '14655': 399, '14659': 397, '14797': 797, '14826': 793, '14874': 399, '14912': 797, '15001': 517, '15027': 495, '15040': 797, '15041': 399, '15067': 797, '15094': 1317}\n"
          ]
        }
      ]
    },
    {
      "cell_type": "code",
      "source": [
        "total_images = sum(image_counts.values())\n",
        "avg_images_per_patients = total_images/len(patient_folders)\n",
        "min_images = min(image_counts.values())\n",
        "max_images = max(image_counts.values())"
      ],
      "metadata": {
        "id": "5UfaFIvcR6uL"
      },
      "execution_count": 16,
      "outputs": []
    },
    {
      "cell_type": "code",
      "source": [
        "print(total_images)\n",
        "print(avg_images_per_patient)\n",
        "print(min_images)\n",
        "print(max_images)"
      ],
      "metadata": {
        "colab": {
          "base_uri": "https://localhost:8080/"
        },
        "id": "6oMPbFcKQy0F",
        "outputId": "988fd2ab-1da0-4f9e-cf4e-d73f07b8be9b"
      },
      "execution_count": 17,
      "outputs": [
        {
          "output_type": "stream",
          "name": "stdout",
          "text": [
            "35527\n",
            "645.9454545454546\n",
            "221\n",
            "2124\n"
          ]
        }
      ]
    },
    {
      "cell_type": "code",
      "source": [
        "csv_path = \"/content/drive/MyDrive/TCIA_Data/Spine_Data_Copy.csv\"\n",
        "labels_df = pd.read_csv(csv_path)"
      ],
      "metadata": {
        "id": "Lk5qNsfcSh8C"
      },
      "execution_count": 26,
      "outputs": []
    },
    {
      "cell_type": "code",
      "source": [
        "print(\"Column names in CSV:\", labels_df.columns.tolist())\n",
        "\n",
        "#Map Patient/Case Number to the Lesion label as per csv file\n",
        "label_dict = dict(zip(labels_df[\"Case\"].astype(str), labels_df[\"Vertebrae with Majority Lesions\"]))"
      ],
      "metadata": {
        "colab": {
          "base_uri": "https://localhost:8080/"
        },
        "id": "2OeMj8IxXKWE",
        "outputId": "b382153c-ee8d-4770-ef60-884d28ab2ccb"
      },
      "execution_count": 33,
      "outputs": [
        {
          "output_type": "stream",
          "name": "stdout",
          "text": [
            "Column names in CSV: ['Case', 'Age (Y)', 'Sex', 'Height (m)', 'Weight (kg)', 'BMI (kg/m^2)', 'Primary cancer', 'Vertebrae with Lesions', 'Vertebrae with Majority Lesions', 'Blastic', 'Lytic', 'Mixed', 'Comments/Fractures']\n"
          ]
        }
      ]
    },
    {
      "cell_type": "code",
      "source": [
        "print(label_dict)"
      ],
      "metadata": {
        "colab": {
          "base_uri": "https://localhost:8080/"
        },
        "id": "NRk8pXNSXLwE",
        "outputId": "b450d59a-16c7-425e-f4d4-ea14ecf3587a"
      },
      "execution_count": 34,
      "outputs": [
        {
          "output_type": "stream",
          "name": "stdout",
          "text": [
            "{'10250.0': 'Mixed lesion', '10352.0': 'No lesions observed', '10355.0': 'Mixed lesion', '10456.0': 'Lytic lesion', '10458.0': 'Blastic lesion', '10543.0': 'Blastic lesion', '11084.0': 'Lytic lesion', '11471.0': 'Lytic lesion', '12196.0': 'Blastic lesion', '12459.0': 'No lesions observed', '12855.0': 'Mixed lesion', '13055.0': 'Mixed lesion', '13089.0': 'Mixed lesion', '13627.0': 'Lytic lesion', '13641.0': 'Blastic lesion', '13643.0': 'Blastic lesion', '13653.0': 'Lytic lesion', '13662.0': 'Blastic lesion', '13681.0': 'No lesions observed', '13683.0': 'Lytic lesion', '13697.0': 'Blastic lesion', '13800.0': 'Mixed lesion', '13819.0': 'Lytic lesion', '13838.0': 'No lesions observed', '13843.0': 'Lytic lesion', '13977.0': 'No lesions observed', '13989.0': 'Mixed lesion', '14078.0': 'Lytic lesion', '14089.0': 'No lesions observed', '14138.0': 'Lytic lesion', '14151.0': 'Lytic lesion', '14293.0': 'No lesions observed', '14313.0': 'Blastic lesion', '14316.0': 'No lesions observed', '14427.0': 'Lytic lesion', '14434.0': 'Lytic lesion', '14439.0': 'Blastic lesion', '14445.0': 'Blastic lesion', '14487.0': 'Blastic lesion', '14636.0': 'No lesions observed', '14638.0': 'Blastic lesion', '14643.0': 'Blastic lesion', '14650.0': 'Lytic lesion', '14655.0': 'Blastic lesion', '14659.0': 'Blastic lesion', '14797.0': 'Blastic lesion', '14826.0': 'Mixed lesion', '14874.0': 'Lytic lesion', '14912.0': 'Lytic lesion', '15001.0': 'Lytic lesion', '15027.0': 'Blastic lesion', '15040.0': 'Mixed lesion', '15041.0': 'Lytic lesion', '15067.0': 'Blastic lesion', '15094.0': 'Lytic lesion', 'nan': nan}\n"
          ]
        }
      ]
    },
    {
      "cell_type": "code",
      "source": [
        "label_counts = Counter(label_dict.values())\n",
        "print(label_counts)"
      ],
      "metadata": {
        "colab": {
          "base_uri": "https://localhost:8080/"
        },
        "id": "PiGEeCi1Yxqn",
        "outputId": "eb57659b-f26b-4d96-b3ce-21794aee468d"
      },
      "execution_count": 42,
      "outputs": [
        {
          "output_type": "stream",
          "name": "stdout",
          "text": [
            "Counter({'Lytic lesion': 19, 'Blastic lesion': 18, 'Mixed lesion': 9, 'No lesions observed': 9, nan: 1})\n"
          ]
        }
      ]
    },
    {
      "cell_type": "code",
      "source": [
        "print(\"\\nLabel Distribution:\")\n",
        "for label, count in label_counts.items():\n",
        "    print(f\"{label}: {count} patients\")"
      ],
      "metadata": {
        "colab": {
          "base_uri": "https://localhost:8080/"
        },
        "id": "IuehSYqIZW1h",
        "outputId": "fe87a1db-f474-4cba-921f-7cdc34ecd015"
      },
      "execution_count": 43,
      "outputs": [
        {
          "output_type": "stream",
          "name": "stdout",
          "text": [
            "\n",
            "Label Distribution:\n",
            "Mixed lesion: 9 patients\n",
            "No lesions observed: 9 patients\n",
            "Lytic lesion: 19 patients\n",
            "Blastic lesion: 18 patients\n",
            "nan: 1 patients\n"
          ]
        }
      ]
    },
    {
      "cell_type": "code",
      "source": [
        "label_keys = [str(key) for key in label_counts.keys()]\n",
        "\n",
        "plt.figure(figsize=(8, 5))\n",
        "plt.bar(label_keys, label_counts.values(), color='gray', edgecolor='black')\n",
        "plt.title(\"Distribution of Lesion labels\")\n",
        "plt.xlabel(\"Label\")\n",
        "plt.ylabel(\"Number of Patients\")\n",
        "plt.xticks(rotation=45)\n",
        "plt.show()"
      ],
      "metadata": {
        "colab": {
          "base_uri": "https://localhost:8080/",
          "height": 582
        },
        "id": "l39aElBDZsbu",
        "outputId": "d304b058-0d05-4a8f-8965-a4e640010e39"
      },
      "execution_count": 49,
      "outputs": [
        {
          "output_type": "display_data",
          "data": {
            "text/plain": [
              "<Figure size 800x500 with 1 Axes>"
            ],
            "image/png": "[encoded data removed]"
          },
          "metadata": {}
        }
      ]
    },
    {
      "cell_type": "code",
      "source": [
        "#Makes sure the images inside each patient folder are in order\n",
        "time_sorted_images = {}\n",
        "for patient in patient_folders:\n",
        "    patient_dir = os.path.join(data_dir, patient)\n",
        "    images = [f for f in os.listdir(patient_dir) if f.endswith(\".jpg\")]\n",
        "    images.sort()\n",
        "    time_sorted_images[patient] = [os.path.join(patient_dir, img) for img in images]\n"
      ],
      "metadata": {
        "id": "vSRzC4XKav-n"
      },
      "execution_count": 52,
      "outputs": []
    },
    {
      "cell_type": "code",
      "source": [],
      "metadata": {
        "id": "BMguQu6kcnZ0"
      },
      "execution_count": null,
      "outputs": []
    }
  ]
}